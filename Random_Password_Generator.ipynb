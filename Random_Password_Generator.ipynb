{
  "nbformat": 4,
  "nbformat_minor": 0,
  "metadata": {
    "colab": {
      "provenance": [],
      "authorship_tag": "ABX9TyMq27ZJRNgwt+YgsxTL2DsR",
      "include_colab_link": true
    },
    "kernelspec": {
      "name": "python3",
      "display_name": "Python 3"
    },
    "language_info": {
      "name": "python"
    }
  },
  "cells": [
    {
      "cell_type": "markdown",
      "metadata": {
        "id": "view-in-github",
        "colab_type": "text"
      },
      "source": [
        "<a href=\"https://colab.research.google.com/github/mikeyyynyc/random-pw-gen/blob/main/Random_Password_Generator.ipynb\" target=\"_parent\"><img src=\"https://colab.research.google.com/assets/colab-badge.svg\" alt=\"Open In Colab\"/></a>"
      ]
    },
    {
      "cell_type": "markdown",
      "source": [
        "Random Password Generator"
      ],
      "metadata": {
        "id": "A8bTyF2Uz_3K"
      }
    },
    {
      "cell_type": "code",
      "execution_count": 4,
      "metadata": {
        "colab": {
          "base_uri": "https://localhost:8080/"
        },
        "id": "_sfrqsWiz4Vm",
        "outputId": "ee5a988c-1759-42c8-afec-423c781f084d"
      },
      "outputs": [
        {
          "output_type": "stream",
          "name": "stdout",
          "text": [
            "Welcome to the PyPassword Generator!\n",
            "How many letters would you like in your password?\n",
            "3\n",
            "How many symbols would you like?\n",
            "2\n",
            "How many numbers would you like?\n",
            "1\n",
            "Your password is: y%B7B+\n"
          ]
        }
      ],
      "source": [
        "#Password Generator Project\n",
        "import random\n",
        "letters = ['a', 'b', 'c', 'd', 'e', 'f', 'g', 'h', 'i', 'j', 'k', 'l', 'm', 'n', 'o', 'p', 'q', 'r', 's', 't', 'u', 'v', 'w', 'x', 'y', 'z', 'A', 'B', 'C', 'D', 'E', 'F', 'G', 'H', 'I', 'J', 'K', 'L', 'M', 'N', 'O', 'P', 'Q', 'R', 'S', 'T', 'U', 'V', 'W', 'X', 'Y', 'Z']\n",
        "numbers = ['0', '1', '2', '3', '4', '5', '6', '7', '8', '9']\n",
        "symbols = ['!', '#', '$', '%', '&', '(', ')', '*', '+']\n",
        "\n",
        "print(\"Welcome to the PyPassword Generator!\")\n",
        "nr_letters= int(input(\"How many letters would you like in your password?\\n\"))\n",
        "nr_symbols = int(input(f\"How many symbols would you like?\\n\"))\n",
        "nr_numbers = int(input(f\"How many numbers would you like?\\n\"))\n",
        "\n",
        "# Generate lists of characters based on user input\n",
        "password_characters = []\n",
        "\n",
        "# Add letters to the password list\n",
        "for i in range(nr_letters):\n",
        "    password_characters.append(random.choice(letters))\n",
        "\n",
        "# Add symbols to the password list\n",
        "for i in range(nr_symbols):\n",
        "    password_characters.append(random.choice(symbols))\n",
        "\n",
        "# Add numbers to the password list\n",
        "for i in range(nr_numbers):\n",
        "    password_characters.append(random.choice(numbers))\n",
        "\n",
        "# Shuffle the password list to ensure randomness\n",
        "random.shuffle(password_characters)\n",
        "\n",
        "# Convert list to string\n",
        "password = ''.join(password_characters)\n",
        "\n",
        "print(f\"Your password is: {password}\")"
      ]
    }
  ]
}